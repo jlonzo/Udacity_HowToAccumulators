{
 "cells": [
  {
   "cell_type": "code",
   "execution_count": null,
   "id": "684954f0",
   "metadata": {},
   "outputs": [],
   "source": [
    "from pyspark.sql import SparkSession\n",
    "from pyspark.context import SparkContext\n",
    "\n",
    "spark = SparkSession.builder.config('spark,ui,port',3000).getOrCreate()"
   ]
  },
  {
   "cell_type": "code",
   "execution_count": null,
   "id": "6e8a66d1",
   "metadata": {},
   "outputs": [],
   "source": [
    "path = \"s3n://mybuck3t/sparkify_log_small_error.json\"\n",
    "logs3 = spark.read.json(path)"
   ]
  },
  {
   "cell_type": "code",
   "execution_count": null,
   "id": "88812c15",
   "metadata": {},
   "outputs": [],
   "source": [
    "logs3.head(2)"
   ]
  },
  {
   "cell_type": "code",
   "execution_count": null,
   "id": "2e823dff",
   "metadata": {},
   "outputs": [],
   "source": [
    "logs3.where(logs3[\"_corrupt_record\"].isNotNull()).collect()"
   ]
  },
  {
   "cell_type": "code",
   "execution_count": null,
   "id": "6f5dcdf6",
   "metadata": {},
   "outputs": [],
   "source": [
    "incorrect_records = SparkContext.accumulator(0,0)"
   ]
  },
  {
   "cell_type": "code",
   "execution_count": null,
   "id": "2a60a897",
   "metadata": {},
   "outputs": [],
   "source": [
    "incorrect_records.value"
   ]
  },
  {
   "cell_type": "code",
   "execution_count": null,
   "id": "7b947457",
   "metadata": {},
   "outputs": [],
   "source": [
    "def add_incorrect_record():\n",
    "    global incorrect_records\n",
    "    incorrect_records += 1"
   ]
  },
  {
   "cell_type": "code",
   "execution_count": null,
   "id": "450640b1",
   "metadata": {},
   "outputs": [],
   "source": [
    "from pyspark.sql.functions import udf\n",
    "correct_ts = udf(lambda x: 1 if x.isdigit() else add_incorrect_record())\n",
    "#correct_ts = udf(lambda x: 1 if str(x).isdigit() else add_incorrect_record())"
   ]
  },
  {
   "cell_type": "code",
   "execution_count": null,
   "id": "54753e71",
   "metadata": {},
   "outputs": [],
   "source": [
    "logs3 = logs3.where(logs3[\"_corrupt_record\"].isNull()).withColumn(\"ts_digit\", correct_ts(logs3[\"ts\"]))"
   ]
  },
  {
   "cell_type": "code",
   "execution_count": null,
   "id": "806bb192",
   "metadata": {},
   "outputs": [],
   "source": [
    "incorrect_records.value"
   ]
  },
  {
   "cell_type": "code",
   "execution_count": null,
   "id": "69a756db",
   "metadata": {},
   "outputs": [],
   "source": [
    "logs3.collect()"
   ]
  },
  {
   "cell_type": "code",
   "execution_count": null,
   "id": "a9017e41",
   "metadata": {},
   "outputs": [],
   "source": []
  }
 ],
 "metadata": {
  "kernelspec": {
   "display_name": "PySpark",
   "language": "",
   "name": "pysparkkernel"
  },
  "language_info": {
   "codemirror_mode": {
    "name": "python",
    "version": 2
   },
   "mimetype": "text/x-python",
   "name": "pyspark",
   "pygments_lexer": "python2"
  }
 },
 "nbformat": 4,
 "nbformat_minor": 5
}
